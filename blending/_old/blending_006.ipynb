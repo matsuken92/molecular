{
 "cells": [
  {
   "cell_type": "code",
   "execution_count": 1,
   "metadata": {},
   "outputs": [],
   "source": [
    "# 基本ライブラリ\n",
    "import pandas as pd\n",
    "import pandas.io.sql as psql\n",
    "import numpy as np\n",
    "import numpy.random as rd\n",
    "import gc\n",
    "import multiprocessing as mp\n",
    "import os\n",
    "import sys\n",
    "import pickle\n",
    "from collections import defaultdict\n",
    "from glob import glob\n",
    "import math\n",
    "from datetime import datetime as dt\n",
    "from pathlib import Path\n",
    "import scipy.stats as st\n",
    "import re\n",
    "import shutil\n",
    "from tqdm import tqdm_notebook as tqdm\n",
    "import datetime\n",
    "ts_conv = np.vectorize(datetime.datetime.fromtimestamp) # 秒ut(10桁) ⇒ 日付\n",
    "\n",
    "# グラフ描画系\n",
    "import matplotlib\n",
    "from matplotlib import font_manager\n",
    "import matplotlib.pyplot as plt\n",
    "import matplotlib.cm as cm\n",
    "from matplotlib import rc\n",
    "\n",
    "from matplotlib import animation as ani\n",
    "from IPython.display import Image\n",
    "\n",
    "plt.rcParams[\"patch.force_edgecolor\"] = True\n",
    "#rc('text', usetex=True)\n",
    "from IPython.display import display # Allows the use of display() for DataFrames\n",
    "import seaborn as sns\n",
    "sns.set(style=\"whitegrid\", palette=\"muted\", color_codes=True)\n",
    "sns.set_style(\"whitegrid\", {'grid.linestyle': '--'})\n",
    "red = sns.xkcd_rgb[\"light red\"]\n",
    "green = sns.xkcd_rgb[\"medium green\"]\n",
    "blue = sns.xkcd_rgb[\"denim blue\"]\n",
    "\n",
    "#カラム内の文字数。デフォルトは50\n",
    "pd.set_option(\"display.max_colwidth\", 100)\n",
    "\n",
    "#行数\n",
    "pd.set_option(\"display.max_rows\", None)\n",
    "pd.set_option(\"display.max_columns\", None)\n",
    "#\n",
    "pd.options.display.float_format = '{:,.5f}'.format\n",
    "\n",
    "%matplotlib inline"
   ]
  },
  {
   "cell_type": "code",
   "execution_count": 2,
   "metadata": {},
   "outputs": [],
   "source": [
    "\n",
    "from sklearn.preprocessing import StandardScaler\n",
    "from sklearn.metrics import mean_absolute_error\n",
    "\n",
    "from sklearn.preprocessing import LabelEncoder\n",
    "from sklearn.model_selection import StratifiedKFold, KFold, RepeatedKFold\n",
    "\n",
    "from sklearn import metrics\n",
    "import json\n",
    "\n",
    "import warnings\n",
    "warnings.filterwarnings(\"ignore\")\n",
    "\n",
    "\n",
    "sys.path.append('..')\n",
    "from lib.line_notif import send_message\n",
    "#from lib.utils import matrics_rotate\n",
    "from lib.utils import reduce_mem_usage, current_time, unpickle, to_pickle\n",
    "from lib.utils import one_hot_encoder, apply_agg, multi_combine_categorical_feature\n",
    "from lib.utils import import_data, get_split_indexer "
   ]
  },
  {
   "cell_type": "code",
   "execution_count": 3,
   "metadata": {},
   "outputs": [],
   "source": [
    "\n",
    "\n",
    "def group_mean_log_mae(y_true, y_pred, types, floor=1e-9):\n",
    "    \"\"\"\n",
    "    Fast metric computation for this competition: https://www.kaggle.com/c/champs-scalar-coupling\n",
    "    Code is from this kernel: https://www.kaggle.com/uberkinder/efficient-metric\n",
    "    \"\"\"\n",
    "    maes = (y_true - y_pred).abs().groupby(types).mean()\n",
    "    return np.log(maes.map(lambda x: max(x, floor))).mean()"
   ]
  },
  {
   "cell_type": "code",
   "execution_count": 4,
   "metadata": {},
   "outputs": [],
   "source": [
    "train = pd.read_csv('../input/train.csv')\n",
    "test = pd.read_csv('../input/test.csv')\n",
    "structures = pd.read_csv('../input/structures.csv')"
   ]
  },
  {
   "cell_type": "code",
   "execution_count": 5,
   "metadata": {},
   "outputs": [
    {
     "name": "stdout",
     "output_type": "stream",
     "text": [
      "total 1114496\r\n",
      "-rw-r--r--@ 1 kenichi.matsui  1522739515  67159342  6 22 11:09 submission_t_v003_022_1.csv\r\n",
      "-rw-r--r--@ 1 kenichi.matsui  1522739515  67161469  6 22 11:09 submission_t_v003_022_143.csv\r\n",
      "-rw-r--r--@ 1 kenichi.matsui  1522739515  67160036  6 23 01:38 submission_t_v003_022_185.csv\r\n",
      "-rw-r--r--@ 1 kenichi.matsui  1522739515  67160687  6 23 01:38 submission_t_v003_022_2457.csv\r\n",
      "-rw-r--r--@ 1 kenichi.matsui  1522739515  67160376  6 23 01:38 submission_t_v003_022_3759.csv\r\n",
      "-rw-r--r--@ 1 kenichi.matsui  1522739515  67162074  6 23 01:38 submission_t_v003_022_3977.csv\r\n",
      "-rw-r--r--@ 1 kenichi.matsui  1522739515  67161761  6 22 11:09 submission_t_v003_022_4039.csv\r\n"
     ]
    }
   ],
   "source": [
    "ls -l ../submit/v003_022/"
   ]
  },
  {
   "cell_type": "code",
   "execution_count": 63,
   "metadata": {},
   "outputs": [],
   "source": [
    "sub_files = np.sort(glob(\"../submit/v003_022/submission_t_v003_022_*.csv\")).tolist()\n",
    "sub_files += [\"../submit/v003_021/submission_t_v003_021.csv\"]"
   ]
  },
  {
   "cell_type": "code",
   "execution_count": 64,
   "metadata": {},
   "outputs": [],
   "source": [
    "sub_list = [pd.read_csv(f, index_col=0) for f in sub_files]"
   ]
  },
  {
   "cell_type": "code",
   "execution_count": 65,
   "metadata": {},
   "outputs": [],
   "source": [
    "submit_list_df = pd.concat(sub_list, axis=1)\n",
    "submit_list_df[\"mean_score\"] = submit_list_df.mean(axis=1).values"
   ]
  },
  {
   "cell_type": "code",
   "execution_count": 66,
   "metadata": {},
   "outputs": [
    {
     "data": {
      "text/html": [
       "<div>\n",
       "<style scoped>\n",
       "    .dataframe tbody tr th:only-of-type {\n",
       "        vertical-align: middle;\n",
       "    }\n",
       "\n",
       "    .dataframe tbody tr th {\n",
       "        vertical-align: top;\n",
       "    }\n",
       "\n",
       "    .dataframe thead th {\n",
       "        text-align: right;\n",
       "    }\n",
       "</style>\n",
       "<table border=\"1\" class=\"dataframe\">\n",
       "  <thead>\n",
       "    <tr style=\"text-align: right;\">\n",
       "      <th></th>\n",
       "      <th>scalar_coupling_constant</th>\n",
       "      <th>scalar_coupling_constant</th>\n",
       "      <th>scalar_coupling_constant</th>\n",
       "      <th>scalar_coupling_constant</th>\n",
       "      <th>scalar_coupling_constant</th>\n",
       "      <th>scalar_coupling_constant</th>\n",
       "      <th>scalar_coupling_constant</th>\n",
       "      <th>scalar_coupling_constant</th>\n",
       "      <th>mean_score</th>\n",
       "    </tr>\n",
       "    <tr>\n",
       "      <th>id</th>\n",
       "      <th></th>\n",
       "      <th></th>\n",
       "      <th></th>\n",
       "      <th></th>\n",
       "      <th></th>\n",
       "      <th></th>\n",
       "      <th></th>\n",
       "      <th></th>\n",
       "      <th></th>\n",
       "    </tr>\n",
       "  </thead>\n",
       "  <tbody>\n",
       "    <tr>\n",
       "      <th>4658147</th>\n",
       "      <td>12.71489</td>\n",
       "      <td>12.58435</td>\n",
       "      <td>13.99674</td>\n",
       "      <td>12.87114</td>\n",
       "      <td>10.87618</td>\n",
       "      <td>11.04759</td>\n",
       "      <td>12.36294</td>\n",
       "      <td>12.43488</td>\n",
       "      <td>12.36109</td>\n",
       "    </tr>\n",
       "    <tr>\n",
       "      <th>4658148</th>\n",
       "      <td>186.89673</td>\n",
       "      <td>174.81509</td>\n",
       "      <td>187.57894</td>\n",
       "      <td>173.67370</td>\n",
       "      <td>188.56502</td>\n",
       "      <td>187.45735</td>\n",
       "      <td>174.59893</td>\n",
       "      <td>176.37839</td>\n",
       "      <td>181.24552</td>\n",
       "    </tr>\n",
       "    <tr>\n",
       "      <th>4658149</th>\n",
       "      <td>0.60653</td>\n",
       "      <td>0.91055</td>\n",
       "      <td>1.15981</td>\n",
       "      <td>0.74212</td>\n",
       "      <td>1.35424</td>\n",
       "      <td>0.98614</td>\n",
       "      <td>0.87702</td>\n",
       "      <td>1.14931</td>\n",
       "      <td>0.97322</td>\n",
       "    </tr>\n",
       "    <tr>\n",
       "      <th>4658150</th>\n",
       "      <td>186.18791</td>\n",
       "      <td>172.95927</td>\n",
       "      <td>185.31755</td>\n",
       "      <td>172.36539</td>\n",
       "      <td>188.30331</td>\n",
       "      <td>187.13367</td>\n",
       "      <td>173.79340</td>\n",
       "      <td>175.59367</td>\n",
       "      <td>180.20677</td>\n",
       "    </tr>\n",
       "    <tr>\n",
       "      <th>4658151</th>\n",
       "      <td>12.27876</td>\n",
       "      <td>10.45616</td>\n",
       "      <td>11.80719</td>\n",
       "      <td>11.45674</td>\n",
       "      <td>10.12191</td>\n",
       "      <td>9.69217</td>\n",
       "      <td>11.78992</td>\n",
       "      <td>12.04555</td>\n",
       "      <td>11.20605</td>\n",
       "    </tr>\n",
       "  </tbody>\n",
       "</table>\n",
       "</div>"
      ],
      "text/plain": [
       "         scalar_coupling_constant  scalar_coupling_constant  \\\n",
       "id                                                            \n",
       "4658147                  12.71489                  12.58435   \n",
       "4658148                 186.89673                 174.81509   \n",
       "4658149                   0.60653                   0.91055   \n",
       "4658150                 186.18791                 172.95927   \n",
       "4658151                  12.27876                  10.45616   \n",
       "\n",
       "         scalar_coupling_constant  scalar_coupling_constant  \\\n",
       "id                                                            \n",
       "4658147                  13.99674                  12.87114   \n",
       "4658148                 187.57894                 173.67370   \n",
       "4658149                   1.15981                   0.74212   \n",
       "4658150                 185.31755                 172.36539   \n",
       "4658151                  11.80719                  11.45674   \n",
       "\n",
       "         scalar_coupling_constant  scalar_coupling_constant  \\\n",
       "id                                                            \n",
       "4658147                  10.87618                  11.04759   \n",
       "4658148                 188.56502                 187.45735   \n",
       "4658149                   1.35424                   0.98614   \n",
       "4658150                 188.30331                 187.13367   \n",
       "4658151                  10.12191                   9.69217   \n",
       "\n",
       "         scalar_coupling_constant  scalar_coupling_constant  mean_score  \n",
       "id                                                                       \n",
       "4658147                  12.36294                  12.43488    12.36109  \n",
       "4658148                 174.59893                 176.37839   181.24552  \n",
       "4658149                   0.87702                   1.14931     0.97322  \n",
       "4658150                 173.79340                 175.59367   180.20677  \n",
       "4658151                  11.78992                  12.04555    11.20605  "
      ]
     },
     "execution_count": 66,
     "metadata": {},
     "output_type": "execute_result"
    }
   ],
   "source": [
    "submit_list_df.head()"
   ]
  },
  {
   "cell_type": "code",
   "execution_count": 69,
   "metadata": {},
   "outputs": [
    {
     "data": {
      "text/html": [
       "<div>\n",
       "<style scoped>\n",
       "    .dataframe tbody tr th:only-of-type {\n",
       "        vertical-align: middle;\n",
       "    }\n",
       "\n",
       "    .dataframe tbody tr th {\n",
       "        vertical-align: top;\n",
       "    }\n",
       "\n",
       "    .dataframe thead th {\n",
       "        text-align: right;\n",
       "    }\n",
       "</style>\n",
       "<table border=\"1\" class=\"dataframe\">\n",
       "  <thead>\n",
       "    <tr style=\"text-align: right;\">\n",
       "      <th></th>\n",
       "      <th>scalar_coupling_constant</th>\n",
       "      <th>scalar_coupling_constant</th>\n",
       "      <th>scalar_coupling_constant</th>\n",
       "      <th>scalar_coupling_constant</th>\n",
       "      <th>scalar_coupling_constant</th>\n",
       "      <th>scalar_coupling_constant</th>\n",
       "      <th>scalar_coupling_constant</th>\n",
       "      <th>scalar_coupling_constant</th>\n",
       "    </tr>\n",
       "  </thead>\n",
       "  <tbody>\n",
       "    <tr>\n",
       "      <th>scalar_coupling_constant</th>\n",
       "      <td>1.00000</td>\n",
       "      <td>0.99997</td>\n",
       "      <td>0.99997</td>\n",
       "      <td>0.99997</td>\n",
       "      <td>0.99997</td>\n",
       "      <td>0.99997</td>\n",
       "      <td>0.99997</td>\n",
       "      <td>0.99997</td>\n",
       "    </tr>\n",
       "    <tr>\n",
       "      <th>scalar_coupling_constant</th>\n",
       "      <td>0.99997</td>\n",
       "      <td>1.00000</td>\n",
       "      <td>0.99997</td>\n",
       "      <td>0.99998</td>\n",
       "      <td>0.99997</td>\n",
       "      <td>0.99997</td>\n",
       "      <td>0.99998</td>\n",
       "      <td>0.99996</td>\n",
       "    </tr>\n",
       "    <tr>\n",
       "      <th>scalar_coupling_constant</th>\n",
       "      <td>0.99997</td>\n",
       "      <td>0.99997</td>\n",
       "      <td>1.00000</td>\n",
       "      <td>0.99997</td>\n",
       "      <td>0.99997</td>\n",
       "      <td>0.99997</td>\n",
       "      <td>0.99997</td>\n",
       "      <td>0.99996</td>\n",
       "    </tr>\n",
       "    <tr>\n",
       "      <th>scalar_coupling_constant</th>\n",
       "      <td>0.99997</td>\n",
       "      <td>0.99998</td>\n",
       "      <td>0.99997</td>\n",
       "      <td>1.00000</td>\n",
       "      <td>0.99997</td>\n",
       "      <td>0.99998</td>\n",
       "      <td>0.99997</td>\n",
       "      <td>0.99996</td>\n",
       "    </tr>\n",
       "    <tr>\n",
       "      <th>scalar_coupling_constant</th>\n",
       "      <td>0.99997</td>\n",
       "      <td>0.99997</td>\n",
       "      <td>0.99997</td>\n",
       "      <td>0.99997</td>\n",
       "      <td>1.00000</td>\n",
       "      <td>0.99997</td>\n",
       "      <td>0.99997</td>\n",
       "      <td>0.99996</td>\n",
       "    </tr>\n",
       "    <tr>\n",
       "      <th>scalar_coupling_constant</th>\n",
       "      <td>0.99997</td>\n",
       "      <td>0.99997</td>\n",
       "      <td>0.99997</td>\n",
       "      <td>0.99998</td>\n",
       "      <td>0.99997</td>\n",
       "      <td>1.00000</td>\n",
       "      <td>0.99997</td>\n",
       "      <td>0.99996</td>\n",
       "    </tr>\n",
       "    <tr>\n",
       "      <th>scalar_coupling_constant</th>\n",
       "      <td>0.99997</td>\n",
       "      <td>0.99998</td>\n",
       "      <td>0.99997</td>\n",
       "      <td>0.99997</td>\n",
       "      <td>0.99997</td>\n",
       "      <td>0.99997</td>\n",
       "      <td>1.00000</td>\n",
       "      <td>0.99996</td>\n",
       "    </tr>\n",
       "    <tr>\n",
       "      <th>scalar_coupling_constant</th>\n",
       "      <td>0.99997</td>\n",
       "      <td>0.99996</td>\n",
       "      <td>0.99996</td>\n",
       "      <td>0.99996</td>\n",
       "      <td>0.99996</td>\n",
       "      <td>0.99996</td>\n",
       "      <td>0.99996</td>\n",
       "      <td>1.00000</td>\n",
       "    </tr>\n",
       "  </tbody>\n",
       "</table>\n",
       "</div>"
      ],
      "text/plain": [
       "                          scalar_coupling_constant  scalar_coupling_constant  \\\n",
       "scalar_coupling_constant                   1.00000                   0.99997   \n",
       "scalar_coupling_constant                   0.99997                   1.00000   \n",
       "scalar_coupling_constant                   0.99997                   0.99997   \n",
       "scalar_coupling_constant                   0.99997                   0.99998   \n",
       "scalar_coupling_constant                   0.99997                   0.99997   \n",
       "scalar_coupling_constant                   0.99997                   0.99997   \n",
       "scalar_coupling_constant                   0.99997                   0.99998   \n",
       "scalar_coupling_constant                   0.99997                   0.99996   \n",
       "\n",
       "                          scalar_coupling_constant  scalar_coupling_constant  \\\n",
       "scalar_coupling_constant                   0.99997                   0.99997   \n",
       "scalar_coupling_constant                   0.99997                   0.99998   \n",
       "scalar_coupling_constant                   1.00000                   0.99997   \n",
       "scalar_coupling_constant                   0.99997                   1.00000   \n",
       "scalar_coupling_constant                   0.99997                   0.99997   \n",
       "scalar_coupling_constant                   0.99997                   0.99998   \n",
       "scalar_coupling_constant                   0.99997                   0.99997   \n",
       "scalar_coupling_constant                   0.99996                   0.99996   \n",
       "\n",
       "                          scalar_coupling_constant  scalar_coupling_constant  \\\n",
       "scalar_coupling_constant                   0.99997                   0.99997   \n",
       "scalar_coupling_constant                   0.99997                   0.99997   \n",
       "scalar_coupling_constant                   0.99997                   0.99997   \n",
       "scalar_coupling_constant                   0.99997                   0.99998   \n",
       "scalar_coupling_constant                   1.00000                   0.99997   \n",
       "scalar_coupling_constant                   0.99997                   1.00000   \n",
       "scalar_coupling_constant                   0.99997                   0.99997   \n",
       "scalar_coupling_constant                   0.99996                   0.99996   \n",
       "\n",
       "                          scalar_coupling_constant  scalar_coupling_constant  \n",
       "scalar_coupling_constant                   0.99997                   0.99997  \n",
       "scalar_coupling_constant                   0.99998                   0.99996  \n",
       "scalar_coupling_constant                   0.99997                   0.99996  \n",
       "scalar_coupling_constant                   0.99997                   0.99996  \n",
       "scalar_coupling_constant                   0.99997                   0.99996  \n",
       "scalar_coupling_constant                   0.99997                   0.99996  \n",
       "scalar_coupling_constant                   1.00000                   0.99996  \n",
       "scalar_coupling_constant                   0.99996                   1.00000  "
      ]
     },
     "execution_count": 69,
     "metadata": {},
     "output_type": "execute_result"
    }
   ],
   "source": [
    "submit_list_df.iloc[:, :len(sub_files)].corr()"
   ]
  },
  {
   "cell_type": "code",
   "execution_count": 70,
   "metadata": {},
   "outputs": [],
   "source": [
    "sampled_id = submit_list_df.sample(frac=0.1).index.values"
   ]
  },
  {
   "cell_type": "code",
   "execution_count": 72,
   "metadata": {
    "scrolled": false
   },
   "outputs": [
    {
     "data": {
      "text/plain": [
       "<matplotlib.collections.PathCollection at 0x11f926d30>"
      ]
     },
     "execution_count": 72,
     "metadata": {},
     "output_type": "execute_result"
    },
    {
     "data": {
      "image/png": "[encoded data removed]",
      "text/plain": [
       "<Figure size 720x720 with 1 Axes>"
      ]
     },
     "metadata": {
      "needs_background": "light"
     },
     "output_type": "display_data"
    }
   ],
   "source": [
    "plt.figure(figsize=(10,10))\n",
    "plt.scatter(x=submit_list_df.iloc[:, 0].loc[sampled_id], \n",
    "            y=submit_list_df.iloc[:, 8].loc[sampled_id])"
   ]
  },
  {
   "cell_type": "code",
   "execution_count": 73,
   "metadata": {},
   "outputs": [],
   "source": [
    "submit_df = submit_list_df[[\"mean_score\"]]\n",
    "submit_df.columns = [\"scalar_coupling_constant\"]"
   ]
  },
  {
   "cell_type": "code",
   "execution_count": 74,
   "metadata": {},
   "outputs": [
    {
     "data": {
      "text/html": [
       "<div>\n",
       "<style scoped>\n",
       "    .dataframe tbody tr th:only-of-type {\n",
       "        vertical-align: middle;\n",
       "    }\n",
       "\n",
       "    .dataframe tbody tr th {\n",
       "        vertical-align: top;\n",
       "    }\n",
       "\n",
       "    .dataframe thead th {\n",
       "        text-align: right;\n",
       "    }\n",
       "</style>\n",
       "<table border=\"1\" class=\"dataframe\">\n",
       "  <thead>\n",
       "    <tr style=\"text-align: right;\">\n",
       "      <th></th>\n",
       "      <th>scalar_coupling_constant</th>\n",
       "    </tr>\n",
       "    <tr>\n",
       "      <th>id</th>\n",
       "      <th></th>\n",
       "    </tr>\n",
       "  </thead>\n",
       "  <tbody>\n",
       "    <tr>\n",
       "      <th>4658147</th>\n",
       "      <td>12.36109</td>\n",
       "    </tr>\n",
       "    <tr>\n",
       "      <th>4658148</th>\n",
       "      <td>181.24552</td>\n",
       "    </tr>\n",
       "    <tr>\n",
       "      <th>4658149</th>\n",
       "      <td>0.97322</td>\n",
       "    </tr>\n",
       "    <tr>\n",
       "      <th>4658150</th>\n",
       "      <td>180.20677</td>\n",
       "    </tr>\n",
       "    <tr>\n",
       "      <th>4658151</th>\n",
       "      <td>11.20605</td>\n",
       "    </tr>\n",
       "  </tbody>\n",
       "</table>\n",
       "</div>"
      ],
      "text/plain": [
       "         scalar_coupling_constant\n",
       "id                               \n",
       "4658147                  12.36109\n",
       "4658148                 181.24552\n",
       "4658149                   0.97322\n",
       "4658150                 180.20677\n",
       "4658151                  11.20605"
      ]
     },
     "execution_count": 74,
     "metadata": {},
     "output_type": "execute_result"
    }
   ],
   "source": [
    "submit_df.head()"
   ]
  },
  {
   "cell_type": "code",
   "execution_count": 75,
   "metadata": {},
   "outputs": [],
   "source": [
    "Path(\"../submit/ensemble\").mkdir(parents=True, exist_ok=True)"
   ]
  },
  {
   "cell_type": "code",
   "execution_count": 76,
   "metadata": {},
   "outputs": [],
   "source": [
    "submit_df.to_csv(f'../submit/v003_022/blending_v003_022_8seeds.csv', index=True)"
   ]
  },
  {
   "cell_type": "code",
   "execution_count": 55,
   "metadata": {},
   "outputs": [
    {
     "name": "stdout",
     "output_type": "stream",
     "text": [
      "100%|██████████████████████████████████████| 64.1M/64.1M [00:09<00:00, 7.28MB/s]\n",
      "Successfully submitted to Predicting Molecular Properties"
     ]
    }
   ],
   "source": [
    "# !kaggle competitions submit -c champs-scalar-coupling -f ../submit/v003_022/blending_v003_022_7seeds.csv -m \"blending all data v003_022 7 seeds.\""
   ]
  },
  {
   "cell_type": "code",
   "execution_count": null,
   "metadata": {},
   "outputs": [],
   "source": []
  },
  {
   "cell_type": "code",
   "execution_count": null,
   "metadata": {},
   "outputs": [],
   "source": []
  },
  {
   "cell_type": "code",
   "execution_count": null,
   "metadata": {},
   "outputs": [],
   "source": []
  }
 ],
 "metadata": {
  "kernelspec": {
   "display_name": "Python 3",
   "language": "python",
   "name": "python3"
  },
  "language_info": {
   "codemirror_mode": {
    "name": "ipython",
    "version": 3
   },
   "file_extension": ".py",
   "mimetype": "text/x-python",
   "name": "python",
   "nbconvert_exporter": "python",
   "pygments_lexer": "ipython3",
   "version": "3.6.8"
  }
 },
 "nbformat": 4,
 "nbformat_minor": 2
}
