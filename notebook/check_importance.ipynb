{
 "cells": [
  {
   "cell_type": "code",
   "execution_count": 1,
   "metadata": {},
   "outputs": [],
   "source": [
    "# 基本ライブラリ\n",
    "import pandas as pd\n",
    "import pandas.io.sql as psql\n",
    "import numpy as np\n",
    "import numpy.random as rd\n",
    "import gc\n",
    "import multiprocessing as mp\n",
    "import os\n",
    "import sys\n",
    "import pickle\n",
    "from collections import defaultdict\n",
    "from glob import glob\n",
    "import math\n",
    "from datetime import datetime as dt\n",
    "from pathlib import Path\n",
    "import scipy.stats as st\n",
    "import re\n",
    "import shutil\n",
    "from tqdm import tqdm_notebook as tqdm\n",
    "import datetime\n",
    "ts_conv = np.vectorize(datetime.datetime.fromtimestamp) # 秒ut(10桁) ⇒ 日付\n",
    "\n",
    "# グラフ描画系\n",
    "import matplotlib\n",
    "from matplotlib import font_manager\n",
    "import matplotlib.pyplot as plt\n",
    "import matplotlib.cm as cm\n",
    "from matplotlib import rc\n",
    "\n",
    "from matplotlib import animation as ani\n",
    "from IPython.display import Image\n",
    "\n",
    "plt.rcParams[\"patch.force_edgecolor\"] = True\n",
    "#rc('text', usetex=True)\n",
    "from IPython.display import display # Allows the use of display() for DataFrames\n",
    "import seaborn as sns\n",
    "sns.set(style=\"whitegrid\", palette=\"muted\", color_codes=True)\n",
    "sns.set_style(\"whitegrid\", {'grid.linestyle': '--'})\n",
    "red = sns.xkcd_rgb[\"light red\"]\n",
    "green = sns.xkcd_rgb[\"medium green\"]\n",
    "blue = sns.xkcd_rgb[\"denim blue\"]\n",
    "\n",
    "#カラム内の文字数。デフォルトは50\n",
    "pd.set_option(\"display.max_colwidth\", 100)\n",
    "\n",
    "#行数\n",
    "pd.set_option(\"display.max_rows\", None)\n",
    "pd.set_option(\"display.max_columns\", None)\n",
    "#\n",
    "pd.options.display.float_format = '{:,.5f}'.format\n",
    "\n",
    "%matplotlib inline"
   ]
  },
  {
   "cell_type": "code",
   "execution_count": 2,
   "metadata": {},
   "outputs": [],
   "source": [
    "import lightgbm as lgb\n",
    "from sklearn.preprocessing import StandardScaler\n",
    "from sklearn.metrics import mean_absolute_error\n",
    "\n",
    "from sklearn.preprocessing import LabelEncoder\n",
    "from sklearn.model_selection import StratifiedKFold, KFold, RepeatedKFold\n",
    "\n",
    "from sklearn import metrics\n",
    "import json\n",
    "\n",
    "import warnings\n",
    "warnings.filterwarnings(\"ignore\")\n",
    "\n",
    "\n",
    "sys.path.append('..')\n",
    "from lib.line_notif import send_message\n",
    "from lib.utils import reduce_mem_usage, current_time, unpickle, to_pickle\n",
    "from lib.utils import one_hot_encoder, apply_agg, multi_combine_categorical_feature\n",
    "from lib.utils import import_data, get_split_indexer "
   ]
  },
  {
   "cell_type": "code",
   "execution_count": 4,
   "metadata": {},
   "outputs": [
    {
     "name": "stdout",
     "output_type": "stream",
     "text": [
      "oof_1.csv  oof_4.csv         submission_3.csv\r\n",
      "oof_2.csv  submission_1.csv  submission_4.csv\r\n",
      "oof_3.csv  submission_2.csv  submit_all_v001_012.csv\r\n"
     ]
    }
   ],
   "source": [
    "ls ../submit/v001_012/"
   ]
  },
  {
   "cell_type": "code",
   "execution_count": 5,
   "metadata": {},
   "outputs": [],
   "source": [
    "DATA_VERSION = \"v001\"\n",
    "TRIAL_NO = \"012\""
   ]
  },
  {
   "cell_type": "code",
   "execution_count": 8,
   "metadata": {},
   "outputs": [
    {
     "name": "stdout",
     "output_type": "stream",
     "text": [
      "start loading...\n",
      "test loaded.\n",
      "test: (2505542, 448)\n",
      "(2505542, 448)\n"
     ]
    }
   ],
   "source": [
    "save_path = Path(f\"../processed/{DATA_VERSION}\")\n",
    "model_path = Path(f\"../model/{DATA_VERSION}_{TRIAL_NO}\")\n",
    "submit_path = Path(f\"../submit/{DATA_VERSION}_{TRIAL_NO}\")\n",
    "\n",
    "print(\"start loading...\")\n",
    "test  = unpickle(save_path/\"test_002.df.pkl\", )\n",
    "print(f\"test loaded.\")\n",
    "test.set_index(\"id\", inplace=True)\n",
    "print(f\"test: {test.shape}\")\n",
    "print(test.shape,)\n",
    "groups = unpickle(save_path/\"lbl_molecule_name.pkl\", )"
   ]
  },
  {
   "cell_type": "code",
   "execution_count": 10,
   "metadata": {},
   "outputs": [
    {
     "name": "stdout",
     "output_type": "stream",
     "text": [
      "total 32\r\n",
      "-rw-rw-r-- 1 kenichi.matsui kenichi.matsui 5533 Jun  8 22:58 use_cols_1.csv\r\n",
      "-rw-rw-r-- 1 kenichi.matsui kenichi.matsui 4425 Jun  9 01:00 use_cols_2.csv\r\n",
      "-rw-rw-r-- 1 kenichi.matsui kenichi.matsui 6622 Jun  9 01:21 use_cols_3.csv\r\n",
      "-rw-rw-r-- 1 kenichi.matsui kenichi.matsui 6622 Jun  9 03:37 use_cols_4.csv\r\n"
     ]
    }
   ],
   "source": [
    "ls -l ../log/v001_012/"
   ]
  },
  {
   "cell_type": "code",
   "execution_count": null,
   "metadata": {},
   "outputs": [
    {
     "name": "stdout",
     "output_type": "stream",
     "text": [
      "mol_type: 1\n"
     ]
    },
    {
     "data": {
      "application/vnd.jupyter.widget-view+json": {
       "model_id": "a60715a25e064f30aeb6b6ec21a7c721",
       "version_major": 2,
       "version_minor": 0
      },
      "text/plain": [
       "HBox(children=(IntProgress(value=0, max=5), HTML(value='')))"
      ]
     },
     "metadata": {},
     "output_type": "display_data"
    }
   ],
   "source": [
    "n_folds = 5\n",
    "iterations = [29000, 18000, 29000, 29000]\n",
    "\n",
    "importance_list = []\n",
    "for mol_type, iteration in zip([1,2,3], iterations):\n",
    "    print(f\"mol_type: {mol_type}\")\n",
    "    importance_sub = []\n",
    "    \n",
    "    use_cols = pd.read_csv(f\"../log/v001_012/use_cols_{mol_type}.csv\", index_col=0)[\"columns\"].values\n",
    "    for fold_ in tqdm(range(n_folds)):\n",
    "        saved_model_path = f'../model/{DATA_VERSION}_{TRIAL_NO}/booster_{mol_type}_{fold_:02d}_{iteration}.model'\n",
    "        bst = lgb.Booster(model_file=saved_model_path)\n",
    "        importance_sub += [pd.DataFrame({\"gain\":bst.feature_importance(importance_type='gain')},\n",
    "                                       index=use_cols).sort_index()]\n",
    "    importance_df = pd.concat(importance_sub, axis=1)\n",
    "    importance_df.columns = [f\"fold_{i}\" for i in range(1,6)]\n",
    "    importance_df[\"ave\"] = importance_df.mean(axis=1)\n",
    "    importance_df[\"ratio\"] = importance_df[\"ave\"]/importance_df[\"ave\"].sum()\n",
    "    importance_list += [importance_df.sort_values(\"ave\", ascending=False)]"
   ]
  },
  {
   "cell_type": "code",
   "execution_count": null,
   "metadata": {},
   "outputs": [],
   "source": [
    "importance_list[0]"
   ]
  },
  {
   "cell_type": "code",
   "execution_count": null,
   "metadata": {},
   "outputs": [],
   "source": []
  },
  {
   "cell_type": "code",
   "execution_count": null,
   "metadata": {},
   "outputs": [],
   "source": []
  },
  {
   "cell_type": "code",
   "execution_count": null,
   "metadata": {},
   "outputs": [],
   "source": []
  },
  {
   "cell_type": "code",
   "execution_count": null,
   "metadata": {},
   "outputs": [],
   "source": []
  },
  {
   "cell_type": "code",
   "execution_count": null,
   "metadata": {},
   "outputs": [],
   "source": []
  }
 ],
 "metadata": {
  "kernelspec": {
   "display_name": "Python 3",
   "language": "python",
   "name": "python3"
  },
  "language_info": {
   "codemirror_mode": {
    "name": "ipython",
    "version": 3
   },
   "file_extension": ".py",
   "mimetype": "text/x-python",
   "name": "python",
   "nbconvert_exporter": "python",
   "pygments_lexer": "ipython3",
   "version": "3.6.7"
  }
 },
 "nbformat": 4,
 "nbformat_minor": 2
}
