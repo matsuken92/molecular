{
 "cells": [
  {
   "cell_type": "code",
   "execution_count": 1,
   "metadata": {},
   "outputs": [],
   "source": [
    "# 基本ライブラリ\n",
    "import pandas as pd\n",
    "import pandas.io.sql as psql\n",
    "import numpy as np\n",
    "import numpy.random as rd\n",
    "import gc\n",
    "import multiprocessing as mp\n",
    "import os\n",
    "import sys\n",
    "import pickle\n",
    "from collections import defaultdict\n",
    "from glob import glob\n",
    "import math\n",
    "from datetime import datetime as dt\n",
    "from pathlib import Path\n",
    "import scipy.stats as st\n",
    "import re\n",
    "import shutil\n",
    "from tqdm import tqdm_notebook as tqdm\n",
    "import datetime\n",
    "ts_conv = np.vectorize(datetime.datetime.fromtimestamp) # 秒ut(10桁) ⇒ 日付\n",
    "\n",
    "# グラフ描画系\n",
    "import matplotlib\n",
    "from matplotlib import font_manager\n",
    "import matplotlib.pyplot as plt\n",
    "import matplotlib.cm as cm\n",
    "from matplotlib import rc\n",
    "\n",
    "from matplotlib import animation as ani\n",
    "from IPython.display import Image\n",
    "\n",
    "plt.rcParams[\"patch.force_edgecolor\"] = True\n",
    "#rc('text', usetex=True)\n",
    "from IPython.display import display # Allows the use of display() for DataFrames\n",
    "import seaborn as sns\n",
    "sns.set(style=\"whitegrid\", palette=\"muted\", color_codes=True)\n",
    "sns.set_style(\"whitegrid\", {'grid.linestyle': '--'})\n",
    "red = sns.xkcd_rgb[\"light red\"]\n",
    "green = sns.xkcd_rgb[\"medium green\"]\n",
    "blue = sns.xkcd_rgb[\"denim blue\"]\n",
    "\n",
    "#カラム内の文字数。デフォルトは50\n",
    "pd.set_option(\"display.max_colwidth\", 100)\n",
    "\n",
    "#行数\n",
    "pd.set_option(\"display.max_rows\", None)\n",
    "pd.set_option(\"display.max_columns\", None)\n",
    "#\n",
    "pd.options.display.float_format = '{:,.5f}'.format\n",
    "\n",
    "%matplotlib inline"
   ]
  },
  {
   "cell_type": "code",
   "execution_count": 2,
   "metadata": {},
   "outputs": [],
   "source": [
    "import lightgbm as lgb\n",
    "from sklearn.preprocessing import StandardScaler\n",
    "from sklearn.metrics import mean_absolute_error\n",
    "\n",
    "from sklearn.preprocessing import LabelEncoder\n",
    "from sklearn.model_selection import StratifiedKFold, KFold, RepeatedKFold\n",
    "\n",
    "from sklearn import metrics\n",
    "import json\n",
    "\n",
    "import warnings\n",
    "warnings.filterwarnings(\"ignore\")\n",
    "\n",
    "\n",
    "sys.path.append('..')\n",
    "from lib.line_notif import send_message\n",
    "from lib.utils import reduce_mem_usage, current_time, unpickle, to_pickle\n",
    "from lib.utils import one_hot_encoder, apply_agg, multi_combine_categorical_feature\n",
    "from lib.utils import import_data, get_split_indexer "
   ]
  },
  {
   "cell_type": "code",
   "execution_count": 3,
   "metadata": {},
   "outputs": [],
   "source": [
    "DATA_VERSION = \"v001\"\n",
    "TRIAL_NO = \"012\""
   ]
  },
  {
   "cell_type": "code",
   "execution_count": 4,
   "metadata": {},
   "outputs": [
    {
     "data": {
      "text/plain": [
       "(2505542, 2)"
      ]
     },
     "execution_count": 4,
     "metadata": {},
     "output_type": "execute_result"
    }
   ],
   "source": [
    "sub = pd.read_csv('../input/sample_submission.csv')\n",
    "sub.shape"
   ]
  },
  {
   "cell_type": "code",
   "execution_count": 5,
   "metadata": {},
   "outputs": [
    {
     "name": "stdout",
     "output_type": "stream",
     "text": [
      "380609\n",
      "24195\n",
      "203126\n",
      "1897612\n"
     ]
    },
    {
     "data": {
      "text/plain": [
       "2505542"
      ]
     },
     "execution_count": 5,
     "metadata": {},
     "output_type": "execute_result"
    }
   ],
   "source": [
    "n_sum = 0\n",
    "sub_split_list = []\n",
    "for mol_type in [1,2,3,4]:\n",
    "    test_type_cut = np.load(f\"../processed/v002/test_type{mol_type}_cut.npy\", )\n",
    "    print(test_type_cut.sum())\n",
    "    n_sum += test_type_cut.sum()\n",
    "    sub_split_list.append(sub[test_type_cut])\n",
    "sub_split_df = pd.concat(sub_split_list)\n",
    "n_sum"
   ]
  },
  {
   "cell_type": "code",
   "execution_count": 6,
   "metadata": {},
   "outputs": [
    {
     "data": {
      "text/plain": [
       "(2505542, 2)"
      ]
     },
     "execution_count": 6,
     "metadata": {},
     "output_type": "execute_result"
    }
   ],
   "source": [
    "sub_split_df.shape"
   ]
  },
  {
   "cell_type": "code",
   "execution_count": 7,
   "metadata": {},
   "outputs": [
    {
     "data": {
      "text/html": [
       "<div>\n",
       "<style scoped>\n",
       "    .dataframe tbody tr th:only-of-type {\n",
       "        vertical-align: middle;\n",
       "    }\n",
       "\n",
       "    .dataframe tbody tr th {\n",
       "        vertical-align: top;\n",
       "    }\n",
       "\n",
       "    .dataframe thead th {\n",
       "        text-align: right;\n",
       "    }\n",
       "</style>\n",
       "<table border=\"1\" class=\"dataframe\">\n",
       "  <thead>\n",
       "    <tr style=\"text-align: right;\">\n",
       "      <th></th>\n",
       "      <th>id</th>\n",
       "      <th>scalar_coupling_constant</th>\n",
       "    </tr>\n",
       "  </thead>\n",
       "  <tbody>\n",
       "    <tr>\n",
       "      <th>1</th>\n",
       "      <td>4658148</td>\n",
       "      <td>0</td>\n",
       "    </tr>\n",
       "    <tr>\n",
       "      <th>3</th>\n",
       "      <td>4658150</td>\n",
       "      <td>0</td>\n",
       "    </tr>\n",
       "    <tr>\n",
       "      <th>5</th>\n",
       "      <td>4658152</td>\n",
       "      <td>0</td>\n",
       "    </tr>\n",
       "    <tr>\n",
       "      <th>9</th>\n",
       "      <td>4658156</td>\n",
       "      <td>0</td>\n",
       "    </tr>\n",
       "    <tr>\n",
       "      <th>12</th>\n",
       "      <td>4658159</td>\n",
       "      <td>0</td>\n",
       "    </tr>\n",
       "  </tbody>\n",
       "</table>\n",
       "</div>"
      ],
      "text/plain": [
       "         id  scalar_coupling_constant\n",
       "1   4658148                         0\n",
       "3   4658150                         0\n",
       "5   4658152                         0\n",
       "9   4658156                         0\n",
       "12  4658159                         0"
      ]
     },
     "execution_count": 7,
     "metadata": {},
     "output_type": "execute_result"
    }
   ],
   "source": [
    "sub_split_df.head()"
   ]
  },
  {
   "cell_type": "code",
   "execution_count": 8,
   "metadata": {},
   "outputs": [],
   "source": [
    "sub_files = np.sort(glob(f\"../submit/{DATA_VERSION}_{TRIAL_NO}/submission_*.csv\"))"
   ]
  },
  {
   "cell_type": "code",
   "execution_count": 9,
   "metadata": {},
   "outputs": [
    {
     "name": "stdout",
     "output_type": "stream",
     "text": [
      "total 28\r\n",
      "drwxrwxr-x 2 kenichi.matsui kenichi.matsui 4096 Jun  7 15:53 \u001b[0m\u001b[01;34mv001_001\u001b[0m/\r\n",
      "drwxrwxr-x 2 kenichi.matsui kenichi.matsui 4096 Jun  7 15:53 \u001b[01;34mv001_002\u001b[0m/\r\n",
      "drwxrwxr-x 2 kenichi.matsui kenichi.matsui 4096 Jun  7 15:53 \u001b[01;34mv001_004\u001b[0m/\r\n",
      "drwxrwxr-x 2 kenichi.matsui kenichi.matsui 4096 Jun  7 15:53 \u001b[01;34mv001_005\u001b[0m/\r\n",
      "drwxrwxr-x 2 kenichi.matsui kenichi.matsui 4096 Jun  7 15:53 \u001b[01;34mv001_006\u001b[0m/\r\n",
      "drwxrwxr-x 2 kenichi.matsui kenichi.matsui 4096 Jun  8 22:41 \u001b[01;34mv001_009\u001b[0m/\r\n",
      "drwxrwxr-x 2 kenichi.matsui kenichi.matsui 4096 Jun  9 10:31 \u001b[01;34mv001_012\u001b[0m/\r\n"
     ]
    }
   ],
   "source": [
    "ls -l ../submit"
   ]
  },
  {
   "cell_type": "code",
   "execution_count": 10,
   "metadata": {},
   "outputs": [
    {
     "name": "stdout",
     "output_type": "stream",
     "text": [
      "total 166800\r\n",
      "-rw-rw-r-- 1 kenichi.matsui kenichi.matsui 18334305 Jun  9 00:46 oof_1.csv\r\n",
      "-rw-rw-r-- 1 kenichi.matsui kenichi.matsui  1121191 Jun  9 01:17 oof_2.csv\r\n",
      "-rw-rw-r-- 1 kenichi.matsui kenichi.matsui 10326335 Jun  9 03:25 oof_3.csv\r\n",
      "-rw-rw-r-- 1 kenichi.matsui kenichi.matsui 93917364 Jun  9 09:50 oof_4.csv\r\n",
      "-rw-rw-r-- 1 kenichi.matsui kenichi.matsui  6883224 Jun  9 00:56 submission_1.csv\r\n",
      "-rw-rw-r-- 1 kenichi.matsui kenichi.matsui   440442 Jun  9 01:17 submission_2.csv\r\n",
      "-rw-rw-r-- 1 kenichi.matsui kenichi.matsui  3972902 Jun  9 03:32 submission_3.csv\r\n",
      "-rw-rw-r-- 1 kenichi.matsui kenichi.matsui 35789840 Jun  9 10:31 submission_4.csv\r\n"
     ]
    }
   ],
   "source": [
    "ls -l ../submit/v001_012"
   ]
  },
  {
   "cell_type": "code",
   "execution_count": 11,
   "metadata": {},
   "outputs": [
    {
     "data": {
      "text/plain": [
       "array(['../submit/v001_012/submission_1.csv',\n",
       "       '../submit/v001_012/submission_2.csv',\n",
       "       '../submit/v001_012/submission_3.csv',\n",
       "       '../submit/v001_012/submission_4.csv'], dtype='<U35')"
      ]
     },
     "execution_count": 11,
     "metadata": {},
     "output_type": "execute_result"
    }
   ],
   "source": [
    "sub_files"
   ]
  },
  {
   "cell_type": "code",
   "execution_count": 12,
   "metadata": {},
   "outputs": [
    {
     "name": "stdout",
     "output_type": "stream",
     "text": [
      "scalar_coupling_constant\r\n",
      "156.70772963513656\r\n",
      "149.98357017582478\r\n",
      "91.04887956561781\r\n",
      "91.96889418882229\r\n",
      "81.15795546727574\r\n",
      "89.65331088741222\r\n",
      "90.08662751050795\r\n",
      "82.75465992839082\r\n",
      "109.9355144772342\r\n"
     ]
    }
   ],
   "source": [
    "!head ../submit/v001_009/submission_1.csv"
   ]
  },
  {
   "cell_type": "code",
   "execution_count": 13,
   "metadata": {},
   "outputs": [
    {
     "name": "stdout",
     "output_type": "stream",
     "text": [
      "df.shape: (380609, 1)\n",
      "df.shape: (24195, 1)\n",
      "df.shape: (203126, 1)\n",
      "df.shape: (1897612, 1)\n"
     ]
    }
   ],
   "source": [
    "sub_list = []\n",
    "for f in sub_files:\n",
    "    df_ = pd.read_csv(f)\n",
    "    print(f\"df.shape: {df_.shape}\")\n",
    "    sub_list += [df_]\n",
    "    \n",
    "sub_df = pd.concat(sub_list, axis=0)"
   ]
  },
  {
   "cell_type": "code",
   "execution_count": null,
   "metadata": {},
   "outputs": [],
   "source": [
    "# 1: 709416, 2: 43363, 3: 378036, 4: 3527332\n",
    "# (380609, 24195, 203126, 1897612)"
   ]
  },
  {
   "cell_type": "code",
   "execution_count": 14,
   "metadata": {},
   "outputs": [
    {
     "data": {
      "text/plain": [
       "(2505542, 1)"
      ]
     },
     "execution_count": 14,
     "metadata": {},
     "output_type": "execute_result"
    }
   ],
   "source": [
    "sub_df.shape"
   ]
  },
  {
   "cell_type": "code",
   "execution_count": 15,
   "metadata": {},
   "outputs": [
    {
     "data": {
      "text/html": [
       "<div>\n",
       "<style scoped>\n",
       "    .dataframe tbody tr th:only-of-type {\n",
       "        vertical-align: middle;\n",
       "    }\n",
       "\n",
       "    .dataframe tbody tr th {\n",
       "        vertical-align: top;\n",
       "    }\n",
       "\n",
       "    .dataframe thead th {\n",
       "        text-align: right;\n",
       "    }\n",
       "</style>\n",
       "<table border=\"1\" class=\"dataframe\">\n",
       "  <thead>\n",
       "    <tr style=\"text-align: right;\">\n",
       "      <th></th>\n",
       "      <th>scalar_coupling_constant</th>\n",
       "    </tr>\n",
       "  </thead>\n",
       "  <tbody>\n",
       "    <tr>\n",
       "      <th>0</th>\n",
       "      <td>160.96248</td>\n",
       "    </tr>\n",
       "    <tr>\n",
       "      <th>1</th>\n",
       "      <td>151.41955</td>\n",
       "    </tr>\n",
       "    <tr>\n",
       "      <th>2</th>\n",
       "      <td>91.11808</td>\n",
       "    </tr>\n",
       "    <tr>\n",
       "      <th>3</th>\n",
       "      <td>91.95610</td>\n",
       "    </tr>\n",
       "    <tr>\n",
       "      <th>4</th>\n",
       "      <td>81.71851</td>\n",
       "    </tr>\n",
       "  </tbody>\n",
       "</table>\n",
       "</div>"
      ],
      "text/plain": [
       "   scalar_coupling_constant\n",
       "0                 160.96248\n",
       "1                 151.41955\n",
       "2                  91.11808\n",
       "3                  91.95610\n",
       "4                  81.71851"
      ]
     },
     "execution_count": 15,
     "metadata": {},
     "output_type": "execute_result"
    }
   ],
   "source": [
    "sub_df.head()"
   ]
  },
  {
   "cell_type": "code",
   "execution_count": 16,
   "metadata": {},
   "outputs": [
    {
     "data": {
      "text/html": [
       "<div>\n",
       "<style scoped>\n",
       "    .dataframe tbody tr th:only-of-type {\n",
       "        vertical-align: middle;\n",
       "    }\n",
       "\n",
       "    .dataframe tbody tr th {\n",
       "        vertical-align: top;\n",
       "    }\n",
       "\n",
       "    .dataframe thead th {\n",
       "        text-align: right;\n",
       "    }\n",
       "</style>\n",
       "<table border=\"1\" class=\"dataframe\">\n",
       "  <thead>\n",
       "    <tr style=\"text-align: right;\">\n",
       "      <th></th>\n",
       "      <th>id</th>\n",
       "      <th>scalar_coupling_constant</th>\n",
       "    </tr>\n",
       "  </thead>\n",
       "  <tbody>\n",
       "    <tr>\n",
       "      <th>1</th>\n",
       "      <td>4658148</td>\n",
       "      <td>0</td>\n",
       "    </tr>\n",
       "    <tr>\n",
       "      <th>3</th>\n",
       "      <td>4658150</td>\n",
       "      <td>0</td>\n",
       "    </tr>\n",
       "    <tr>\n",
       "      <th>5</th>\n",
       "      <td>4658152</td>\n",
       "      <td>0</td>\n",
       "    </tr>\n",
       "    <tr>\n",
       "      <th>9</th>\n",
       "      <td>4658156</td>\n",
       "      <td>0</td>\n",
       "    </tr>\n",
       "    <tr>\n",
       "      <th>12</th>\n",
       "      <td>4658159</td>\n",
       "      <td>0</td>\n",
       "    </tr>\n",
       "  </tbody>\n",
       "</table>\n",
       "</div>"
      ],
      "text/plain": [
       "         id  scalar_coupling_constant\n",
       "1   4658148                         0\n",
       "3   4658150                         0\n",
       "5   4658152                         0\n",
       "9   4658156                         0\n",
       "12  4658159                         0"
      ]
     },
     "execution_count": 16,
     "metadata": {},
     "output_type": "execute_result"
    }
   ],
   "source": [
    "sub_split_df.head()"
   ]
  },
  {
   "cell_type": "code",
   "execution_count": 17,
   "metadata": {},
   "outputs": [],
   "source": [
    "sub_split_df[\"scalar_coupling_constant\"] = sub_df[\"scalar_coupling_constant\"].values"
   ]
  },
  {
   "cell_type": "code",
   "execution_count": 18,
   "metadata": {},
   "outputs": [
    {
     "data": {
      "text/html": [
       "<div>\n",
       "<style scoped>\n",
       "    .dataframe tbody tr th:only-of-type {\n",
       "        vertical-align: middle;\n",
       "    }\n",
       "\n",
       "    .dataframe tbody tr th {\n",
       "        vertical-align: top;\n",
       "    }\n",
       "\n",
       "    .dataframe thead th {\n",
       "        text-align: right;\n",
       "    }\n",
       "</style>\n",
       "<table border=\"1\" class=\"dataframe\">\n",
       "  <thead>\n",
       "    <tr style=\"text-align: right;\">\n",
       "      <th></th>\n",
       "      <th>id</th>\n",
       "      <th>scalar_coupling_constant</th>\n",
       "    </tr>\n",
       "  </thead>\n",
       "  <tbody>\n",
       "    <tr>\n",
       "      <th>1</th>\n",
       "      <td>4658148</td>\n",
       "      <td>160.96248</td>\n",
       "    </tr>\n",
       "    <tr>\n",
       "      <th>3</th>\n",
       "      <td>4658150</td>\n",
       "      <td>151.41955</td>\n",
       "    </tr>\n",
       "    <tr>\n",
       "      <th>5</th>\n",
       "      <td>4658152</td>\n",
       "      <td>91.11808</td>\n",
       "    </tr>\n",
       "    <tr>\n",
       "      <th>9</th>\n",
       "      <td>4658156</td>\n",
       "      <td>91.95610</td>\n",
       "    </tr>\n",
       "    <tr>\n",
       "      <th>12</th>\n",
       "      <td>4658159</td>\n",
       "      <td>81.71851</td>\n",
       "    </tr>\n",
       "  </tbody>\n",
       "</table>\n",
       "</div>"
      ],
      "text/plain": [
       "         id  scalar_coupling_constant\n",
       "1   4658148                 160.96248\n",
       "3   4658150                 151.41955\n",
       "5   4658152                  91.11808\n",
       "9   4658156                  91.95610\n",
       "12  4658159                  81.71851"
      ]
     },
     "execution_count": 18,
     "metadata": {},
     "output_type": "execute_result"
    }
   ],
   "source": [
    "sub_split_df.head()"
   ]
  },
  {
   "cell_type": "code",
   "execution_count": 19,
   "metadata": {},
   "outputs": [
    {
     "data": {
      "text/plain": [
       "'../submit/v001_012/submit_all_v001_012.csv'"
      ]
     },
     "execution_count": 19,
     "metadata": {},
     "output_type": "execute_result"
    }
   ],
   "source": [
    "f\"../submit/{DATA_VERSION}_{TRIAL_NO}/submit_all_{DATA_VERSION}_{TRIAL_NO}.csv\""
   ]
  },
  {
   "cell_type": "code",
   "execution_count": 20,
   "metadata": {},
   "outputs": [],
   "source": [
    "sub_split_df.to_csv(f\"../submit/{DATA_VERSION}_{TRIAL_NO}/submit_all_{DATA_VERSION}_{TRIAL_NO}.csv\", index=False)"
   ]
  },
  {
   "cell_type": "code",
   "execution_count": 21,
   "metadata": {},
   "outputs": [
    {
     "name": "stdout",
     "output_type": "stream",
     "text": [
      "total 232380\r\n",
      "-rw-rw-r-- 1 kenichi.matsui kenichi.matsui 18334305 Jun  9 00:46 oof_1.csv\r\n",
      "-rw-rw-r-- 1 kenichi.matsui kenichi.matsui  1121191 Jun  9 01:17 oof_2.csv\r\n",
      "-rw-rw-r-- 1 kenichi.matsui kenichi.matsui 10326335 Jun  9 03:25 oof_3.csv\r\n",
      "-rw-rw-r-- 1 kenichi.matsui kenichi.matsui 93917364 Jun  9 09:50 oof_4.csv\r\n",
      "-rw-rw-r-- 1 kenichi.matsui kenichi.matsui  6883224 Jun  9 00:56 submission_1.csv\r\n",
      "-rw-rw-r-- 1 kenichi.matsui kenichi.matsui   440442 Jun  9 01:17 submission_2.csv\r\n",
      "-rw-rw-r-- 1 kenichi.matsui kenichi.matsui  3972902 Jun  9 03:32 submission_3.csv\r\n",
      "-rw-rw-r-- 1 kenichi.matsui kenichi.matsui 35789840 Jun  9 10:31 submission_4.csv\r\n",
      "-rw-rw-r-- 1 kenichi.matsui kenichi.matsui 67151306 Jun  9 11:02 submit_all_v001_012.csv\r\n"
     ]
    }
   ],
   "source": [
    "ls -l ../submit/v001_012"
   ]
  },
  {
   "cell_type": "code",
   "execution_count": 23,
   "metadata": {},
   "outputs": [
    {
     "name": "stdout",
     "output_type": "stream",
     "text": [
      "100%|██████████████████████████████████████| 64.0M/64.0M [00:03<00:00, 21.5MB/s]\n",
      "Successfully submitted to Predicting Molecular Properties"
     ]
    }
   ],
   "source": [
    "# !kaggle competitions submit -c champs-scalar-coupling -f '../submit/v001_012/submit_all_v001_012.csv' -m \"split 4 parts + angle\""
   ]
  },
  {
   "cell_type": "code",
   "execution_count": null,
   "metadata": {},
   "outputs": [],
   "source": []
  },
  {
   "cell_type": "code",
   "execution_count": null,
   "metadata": {},
   "outputs": [],
   "source": []
  }
 ],
 "metadata": {
  "kernelspec": {
   "display_name": "Python 3",
   "language": "python",
   "name": "python3"
  },
  "language_info": {
   "codemirror_mode": {
    "name": "ipython",
    "version": 3
   },
   "file_extension": ".py",
   "mimetype": "text/x-python",
   "name": "python",
   "nbconvert_exporter": "python",
   "pygments_lexer": "ipython3",
   "version": "3.6.7"
  }
 },
 "nbformat": 4,
 "nbformat_minor": 2
}
