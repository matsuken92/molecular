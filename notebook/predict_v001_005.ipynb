{
 "cells": [
  {
   "cell_type": "code",
   "execution_count": 1,
   "metadata": {},
   "outputs": [],
   "source": [
    "# 基本ライブラリ\n",
    "import pandas as pd\n",
    "import pandas.io.sql as psql\n",
    "import numpy as np\n",
    "import numpy.random as rd\n",
    "import gc\n",
    "import multiprocessing as mp\n",
    "import os\n",
    "import sys\n",
    "import pickle\n",
    "from collections import defaultdict\n",
    "from glob import glob\n",
    "import math\n",
    "from datetime import datetime as dt\n",
    "from pathlib import Path\n",
    "import scipy.stats as st\n",
    "import re\n",
    "import shutil\n",
    "from tqdm import tqdm_notebook as tqdm\n",
    "import datetime\n",
    "ts_conv = np.vectorize(datetime.datetime.fromtimestamp) # 秒ut(10桁) ⇒ 日付\n",
    "\n",
    "# グラフ描画系\n",
    "import matplotlib\n",
    "from matplotlib import font_manager\n",
    "import matplotlib.pyplot as plt\n",
    "import matplotlib.cm as cm\n",
    "from matplotlib import rc\n",
    "\n",
    "from matplotlib import animation as ani\n",
    "from IPython.display import Image\n",
    "\n",
    "plt.rcParams[\"patch.force_edgecolor\"] = True\n",
    "#rc('text', usetex=True)\n",
    "from IPython.display import display # Allows the use of display() for DataFrames\n",
    "import seaborn as sns\n",
    "sns.set(style=\"whitegrid\", palette=\"muted\", color_codes=True)\n",
    "sns.set_style(\"whitegrid\", {'grid.linestyle': '--'})\n",
    "red = sns.xkcd_rgb[\"light red\"]\n",
    "green = sns.xkcd_rgb[\"medium green\"]\n",
    "blue = sns.xkcd_rgb[\"denim blue\"]\n",
    "\n",
    "#カラム内の文字数。デフォルトは50\n",
    "pd.set_option(\"display.max_colwidth\", 100)\n",
    "\n",
    "#行数\n",
    "pd.set_option(\"display.max_rows\", None)\n",
    "pd.set_option(\"display.max_columns\", None)\n",
    "#\n",
    "pd.options.display.float_format = '{:,.5f}'.format\n",
    "\n",
    "%matplotlib inline"
   ]
  },
  {
   "cell_type": "code",
   "execution_count": 2,
   "metadata": {},
   "outputs": [],
   "source": [
    "import lightgbm as lgb\n",
    "from sklearn.preprocessing import StandardScaler\n",
    "from sklearn.metrics import mean_absolute_error\n",
    "\n",
    "from sklearn.preprocessing import LabelEncoder\n",
    "from sklearn.model_selection import StratifiedKFold, KFold, RepeatedKFold\n",
    "\n",
    "from sklearn import metrics\n",
    "import json\n",
    "\n",
    "import warnings\n",
    "warnings.filterwarnings(\"ignore\")\n",
    "\n",
    "\n",
    "sys.path.append('..')\n",
    "from lib.line_notif import send_message\n",
    "from lib.utils import reduce_mem_usage, current_time, unpickle, to_pickle\n",
    "from lib.utils import one_hot_encoder, apply_agg, multi_combine_categorical_feature\n",
    "from lib.utils import import_data, get_split_indexer "
   ]
  },
  {
   "cell_type": "code",
   "execution_count": 3,
   "metadata": {},
   "outputs": [],
   "source": [
    "sub = pd.read_csv('../input/sample_submission.csv')"
   ]
  },
  {
   "cell_type": "code",
   "execution_count": 4,
   "metadata": {},
   "outputs": [],
   "source": [
    "DATA_VERSION = \"v001\"\n",
    "TRIAL_NO = \"005\"\n",
    "save_path = Path(f\"../processed/{DATA_VERSION}\")\n",
    "model_path = Path(f\"../model/{DATA_VERSION}_{TRIAL_NO}\")\n",
    "submit_path = Path(f\"../submit/{DATA_VERSION}_{TRIAL_NO}\")"
   ]
  },
  {
   "cell_type": "code",
   "execution_count": 5,
   "metadata": {},
   "outputs": [
    {
     "name": "stdout",
     "output_type": "stream",
     "text": [
      "start loading...\n",
      "test loaded.\n",
      "test: (2505542, 448)\n",
      "(2505542, 448)\n"
     ]
    }
   ],
   "source": [
    "\n",
    "\n",
    "print(\"start loading...\")\n",
    "test  = unpickle(save_path/\"test_002.df.pkl\", )\n",
    "print(f\"test loaded.\")\n",
    "test.set_index(\"id\", inplace=True)\n",
    "print(f\"test: {test.shape}\")\n",
    "print(test.shape,)\n",
    "groups = unpickle(save_path/\"lbl_molecule_name.pkl\", )\n",
    "\n",
    "def get_test_data_for_predict(mol_type):\n",
    "    # mol_type = 1 # int(sys.argv[1]) #1\n",
    "    print(f\"mol_type: {mol_type}\")\n",
    "\n",
    "    if mol_type==0:\n",
    "        pass\n",
    "    elif mol_type==1:\n",
    "        train_type_cut = np.load(\"../processed/v001/train_type1_cut.npy\", )\n",
    "        test_type_cut = np.load(\"../processed/v001/test_type1_cut.npy\", )\n",
    "    elif mol_type==2:\n",
    "        train_type_cut = np.load(\"../processed/v001/train_type2_cut.npy\", )\n",
    "        test_type_cut = np.load(\"../processed/v001/test_type2_cut.npy\", )\n",
    "    elif mol_type==3:\n",
    "        test_type_cut = np.load(\"../processed/v001/test_type3_cut.npy\", )\n",
    "        train_type_cut = np.load(\"../processed/v001/train_type3_cut.npy\", )\n",
    "    else:\n",
    "        assert False, f\"mol_type should be 0, 1, 2, 3. mol_type: {mol_type}\"\n",
    "\n",
    "#     if mol_type in [1,2,3]:\n",
    "#         test_  = test[test_type_cut]\n",
    "    return test[test_type_cut]"
   ]
  },
  {
   "cell_type": "code",
   "execution_count": null,
   "metadata": {
    "scrolled": true
   },
   "outputs": [
    {
     "name": "stdout",
     "output_type": "stream",
     "text": [
      "mol_type: 1\n",
      "mol_type: 1\n"
     ]
    },
    {
     "data": {
      "application/vnd.jupyter.widget-view+json": {
       "model_id": "5bcda1741fb743f982f359b9c6b8d0ac",
       "version_major": 2,
       "version_minor": 0
      },
      "text/plain": [
       "HBox(children=(IntProgress(value=0, max=5), HTML(value='')))"
      ]
     },
     "metadata": {},
     "output_type": "display_data"
    }
   ],
   "source": [
    "sub_list = []\n",
    "n_folds = 5\n",
    "iterations = [29000, 7000, 20000]\n",
    "\n",
    "for mol_type, iteration in zip([1,2,3], iterations):\n",
    "    print(f\"mol_type: {mol_type}\")\n",
    "    test_ = get_test_data_for_predict(mol_type=mol_type)\n",
    "    #bst_list = []\n",
    "    preds_test = np.zeros((test_.shape[0], n_folds))\n",
    "    for fold_ in tqdm(range(n_folds)):\n",
    "        saved_model_path = f'../model/{DATA_VERSION}_{TRIAL_NO}/booster_{mol_type}_{fold_:02d}_{iteration}.model'\n",
    "        bst = lgb.Booster(model_file=saved_model_path)\n",
    "        #bst_list += [bst]\n",
    "        preds_test[:, fold_] = bst.predict(test_)\n",
    "\n",
    "    sub = pd.DataFrame(index=test_.index)\n",
    "    sub[\"scalar_coupling_constant\"] = preds_test.mean(axis=1)    \n",
    "    sub_list.append(sub)\n",
    "    \n",
    "sub_all = pd.concat(sub_list, axis=0)    \n",
    "sub_all.to_csv(submit_path/\"sub_all.csv\")"
   ]
  },
  {
   "cell_type": "code",
   "execution_count": null,
   "metadata": {},
   "outputs": [],
   "source": []
  },
  {
   "cell_type": "code",
   "execution_count": null,
   "metadata": {},
   "outputs": [],
   "source": []
  },
  {
   "cell_type": "code",
   "execution_count": null,
   "metadata": {},
   "outputs": [],
   "source": []
  },
  {
   "cell_type": "code",
   "execution_count": null,
   "metadata": {},
   "outputs": [],
   "source": []
  }
 ],
 "metadata": {
  "kernelspec": {
   "display_name": "Python 3",
   "language": "python",
   "name": "python3"
  },
  "language_info": {
   "codemirror_mode": {
    "name": "ipython",
    "version": 3
   },
   "file_extension": ".py",
   "mimetype": "text/x-python",
   "name": "python",
   "nbconvert_exporter": "python",
   "pygments_lexer": "ipython3",
   "version": "3.6.7"
  }
 },
 "nbformat": 4,
 "nbformat_minor": 2
}
