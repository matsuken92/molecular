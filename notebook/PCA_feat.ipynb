{
 "cells": [
  {
   "cell_type": "code",
   "execution_count": 2,
   "metadata": {},
   "outputs": [],
   "source": [
    "import pandas as pd\n",
    "import pandas.io.sql as psql\n",
    "import numpy as np\n",
    "import numpy.random as rd\n",
    "import gc\n",
    "import multiprocessing as mp\n",
    "import os\n",
    "import sys\n",
    "import pickle\n",
    "from collections import defaultdict\n",
    "from glob import glob\n",
    "import math\n",
    "from datetime import datetime as dt\n",
    "from pathlib import Path\n",
    "import scipy.stats as st\n",
    "import re\n",
    "import shutil\n",
    "from tqdm import tqdm_notebook as tqdm\n",
    "import datetime"
   ]
  },
  {
   "cell_type": "code",
   "execution_count": 63,
   "metadata": {},
   "outputs": [],
   "source": [
    "import sys\n",
    "sys.path.append('..')\n",
    "from lib.utils import current_time, unpickle, to_pickle, reduce_mem_usage"
   ]
  },
  {
   "cell_type": "code",
   "execution_count": 3,
   "metadata": {},
   "outputs": [],
   "source": [
    "structures = pd.read_csv('../input/structures.csv')"
   ]
  },
  {
   "cell_type": "code",
   "execution_count": 56,
   "metadata": {},
   "outputs": [],
   "source": [
    "from sklearn.decomposition import PCA\n",
    "def pca_feat(df):\n",
    "    pca = PCA(n_components=3)\n",
    "    pca.fit(df[[\"x\", \"y\", \"z\"]])\n",
    "    \n",
    "    return {f\"pca_exp_{i}\":e for i, e in zip(range(1,4), pca.explained_variance_)}\n",
    "    #return pca.explained_variance_"
   ]
  },
  {
   "cell_type": "code",
   "execution_count": 57,
   "metadata": {},
   "outputs": [],
   "source": [
    "pca_feat = structures.groupby(\"molecule_name\").apply(pca_feat)\n",
    "pca_feat_df = pd.DataFrame(pca_feat.values.tolist())"
   ]
  },
  {
   "cell_type": "code",
   "execution_count": 58,
   "metadata": {},
   "outputs": [],
   "source": [
    "pca_feat_df[\"molecule_name\"] = structures.molecule_name.unique()"
   ]
  },
  {
   "cell_type": "code",
   "execution_count": 61,
   "metadata": {},
   "outputs": [
    {
     "data": {
      "text/html": [
       "<div>\n",
       "<style scoped>\n",
       "    .dataframe tbody tr th:only-of-type {\n",
       "        vertical-align: middle;\n",
       "    }\n",
       "\n",
       "    .dataframe tbody tr th {\n",
       "        vertical-align: top;\n",
       "    }\n",
       "\n",
       "    .dataframe thead th {\n",
       "        text-align: right;\n",
       "    }\n",
       "</style>\n",
       "<table border=\"1\" class=\"dataframe\">\n",
       "  <thead>\n",
       "    <tr style=\"text-align: right;\">\n",
       "      <th></th>\n",
       "      <th>pca_exp_1</th>\n",
       "      <th>pca_exp_2</th>\n",
       "      <th>pca_exp_3</th>\n",
       "      <th>molecule_name</th>\n",
       "    </tr>\n",
       "  </thead>\n",
       "  <tbody>\n",
       "    <tr>\n",
       "      <th>0</th>\n",
       "      <td>0.397462491513495</td>\n",
       "      <td>3.974532701417844e-01</td>\n",
       "      <td>3.974382754625250e-01</td>\n",
       "      <td>dsgdb9nsd_000001</td>\n",
       "    </tr>\n",
       "    <tr>\n",
       "      <th>1</th>\n",
       "      <td>0.436735753050200</td>\n",
       "      <td>4.366026354383531e-01</td>\n",
       "      <td>4.033683965180673e-02</td>\n",
       "      <td>dsgdb9nsd_000002</td>\n",
       "    </tr>\n",
       "    <tr>\n",
       "      <th>2</th>\n",
       "      <td>0.572563007344935</td>\n",
       "      <td>1.176955037418436e-01</td>\n",
       "      <td>2.922186130127006e-36</td>\n",
       "      <td>dsgdb9nsd_000003</td>\n",
       "    </tr>\n",
       "    <tr>\n",
       "      <th>3</th>\n",
       "      <td>2.080326928474587</td>\n",
       "      <td>0.000000000000000e+00</td>\n",
       "      <td>0.000000000000000e+00</td>\n",
       "      <td>dsgdb9nsd_000004</td>\n",
       "    </tr>\n",
       "    <tr>\n",
       "      <th>4</th>\n",
       "      <td>1.230868921038886</td>\n",
       "      <td>9.445536412815983e-22</td>\n",
       "      <td>2.381912665282890e-37</td>\n",
       "      <td>dsgdb9nsd_000005</td>\n",
       "    </tr>\n",
       "  </tbody>\n",
       "</table>\n",
       "</div>"
      ],
      "text/plain": [
       "           pca_exp_1              pca_exp_2              pca_exp_3  \\\n",
       "0  0.397462491513495  3.974532701417844e-01  3.974382754625250e-01   \n",
       "1  0.436735753050200  4.366026354383531e-01  4.033683965180673e-02   \n",
       "2  0.572563007344935  1.176955037418436e-01  2.922186130127006e-36   \n",
       "3  2.080326928474587  0.000000000000000e+00  0.000000000000000e+00   \n",
       "4  1.230868921038886  9.445536412815983e-22  2.381912665282890e-37   \n",
       "\n",
       "      molecule_name  \n",
       "0  dsgdb9nsd_000001  \n",
       "1  dsgdb9nsd_000002  \n",
       "2  dsgdb9nsd_000003  \n",
       "3  dsgdb9nsd_000004  \n",
       "4  dsgdb9nsd_000005  "
      ]
     },
     "execution_count": 61,
     "metadata": {},
     "output_type": "execute_result"
    }
   ],
   "source": [
    "pca_feat_df.head()"
   ]
  },
  {
   "cell_type": "code",
   "execution_count": 64,
   "metadata": {},
   "outputs": [],
   "source": [
    "to_pickle(\"../processed/v003/pca_feat_df.pkl\", pca_feat_df)"
   ]
  },
  {
   "cell_type": "code",
   "execution_count": null,
   "metadata": {},
   "outputs": [],
   "source": []
  },
  {
   "cell_type": "code",
   "execution_count": null,
   "metadata": {},
   "outputs": [],
   "source": []
  }
 ],
 "metadata": {
  "kernelspec": {
   "display_name": "Python 3",
   "language": "python",
   "name": "python3"
  },
  "language_info": {
   "codemirror_mode": {
    "name": "ipython",
    "version": 3
   },
   "file_extension": ".py",
   "mimetype": "text/x-python",
   "name": "python",
   "nbconvert_exporter": "python",
   "pygments_lexer": "ipython3",
   "version": "3.6.7"
  }
 },
 "nbformat": 4,
 "nbformat_minor": 2
}
