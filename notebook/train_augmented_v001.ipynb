{
 "cells": [
  {
   "cell_type": "code",
   "execution_count": 1,
   "metadata": {},
   "outputs": [],
   "source": [
    "# 基本ライブラリ\n",
    "import pandas as pd\n",
    "import pandas.io.sql as psql\n",
    "import numpy as np\n",
    "import numpy.random as rd\n",
    "import gc\n",
    "import multiprocessing as mp\n",
    "import os\n",
    "import sys\n",
    "import pickle\n",
    "from collections import defaultdict\n",
    "from glob import glob\n",
    "import math\n",
    "from datetime import datetime as dt\n",
    "from pathlib import Path\n",
    "import scipy.stats as st\n",
    "import re\n",
    "import shutil\n",
    "from tqdm import tqdm_notebook as tqdm\n",
    "import datetime\n",
    "ts_conv = np.vectorize(datetime.datetime.fromtimestamp) # 秒ut(10桁) ⇒ 日付\n",
    "\n",
    "# グラフ描画系\n",
    "import matplotlib\n",
    "from matplotlib import font_manager\n",
    "import matplotlib.pyplot as plt\n",
    "import matplotlib.cm as cm\n",
    "from matplotlib import rc\n",
    "\n",
    "from matplotlib import animation as ani\n",
    "from IPython.display import Image\n",
    "\n",
    "plt.rcParams[\"patch.force_edgecolor\"] = True\n",
    "#rc('text', usetex=True)\n",
    "from IPython.display import display # Allows the use of display() for DataFrames\n",
    "import seaborn as sns\n",
    "sns.set(style=\"whitegrid\", palette=\"muted\", color_codes=True)\n",
    "sns.set_style(\"whitegrid\", {'grid.linestyle': '--'})\n",
    "red = sns.xkcd_rgb[\"light red\"]\n",
    "green = sns.xkcd_rgb[\"medium green\"]\n",
    "blue = sns.xkcd_rgb[\"denim blue\"]\n",
    "\n",
    "#カラム内の文字数。デフォルトは50\n",
    "pd.set_option(\"display.max_colwidth\", 100)\n",
    "\n",
    "#行数\n",
    "pd.set_option(\"display.max_rows\", None)\n",
    "pd.set_option(\"display.max_columns\", None)\n",
    "#\n",
    "pd.options.display.float_format = '{:,.5f}'.format\n",
    "\n",
    "%matplotlib inline"
   ]
  },
  {
   "cell_type": "code",
   "execution_count": null,
   "metadata": {},
   "outputs": [],
   "source": [
    "structures = pd.read_csv(\"../input/structures.csv\")"
   ]
  },
  {
   "cell_type": "code",
   "execution_count": 26,
   "metadata": {},
   "outputs": [
    {
     "data": {
      "application/vnd.jupyter.widget-view+json": {
       "model_id": "c7af3444321c4c2683ca4197d0503949",
       "version_major": 2,
       "version_minor": 0
      },
      "text/plain": [
       "HBox(children=(IntProgress(value=0, max=130775), HTML(value='')))"
      ]
     },
     "metadata": {},
     "output_type": "display_data"
    }
   ],
   "source": [
    "def matrics_rotate_(row, theta):\n",
    "    # x0 = np.random.random()\n",
    "    # y1 = 2*math.pi*np.random.random()\n",
    "    # y2 = 2*math.pi*np.random.random()\n",
    "    x0 = theta[0]\n",
    "    y1 = theta[1]\n",
    "    y2 = theta[2]\n",
    "    r1 = math.sqrt(1.0-x0)\n",
    "    r2 = math.sqrt(x0)\n",
    "    u0 = math.cos(y2)*r2\n",
    "    u1 = math.sin(y1)*r1\n",
    "    u2 = math.cos(y1)*r1\n",
    "    u3 = math.sin(y2)*r2\n",
    "    coefi = 2.0*u0*u0-1.0\n",
    "    coefuu = 2.0\n",
    "    coefe = 2.0*u0\n",
    "    r = np.zeros(shape=(3, 3))\n",
    "    r[0, 0] = coefi+coefuu*u1*u1\n",
    "    r[1, 1] = coefi+coefuu*u2*u2\n",
    "    r[2, 2] = coefi+coefuu*u3*u3\n",
    "\n",
    "    r[1, 2] = coefuu*u2*u3-coefe*u1\n",
    "    r[2, 0] = coefuu*u3*u1-coefe*u2\n",
    "    r[0, 1] = coefuu*u1*u2-coefe*u3\n",
    "\n",
    "    r[2, 1] = coefuu*u3*u2+coefe*u1\n",
    "    r[0, 2] = coefuu*u1*u3+coefe*u2\n",
    "    r[1, 0] = coefuu*u2*u1+coefe*u3\n",
    "    return np.dot([row.x, row.y, row.z], r)\n",
    "\n",
    "rd.seed(SEED)\n",
    "rotated_structures = []\n",
    "for i, g in tqdm(structures.groupby(\"molecule_name\")):\n",
    "    theta = [np.random.random(), 2*np.random.random(), 2*np.random.random()]\n",
    "    rotated = g.apply(lambda row: matrics_rotate_(row, theta), axis=1, result_type=\"expand\")\n",
    "    rotated.columns = [\"x\", \"y\", \"z\"]\n",
    "    rotated[\"molecule_name\"] = i\n",
    "    rotated[\"atom_index\"] = g.atom_index\n",
    "    rotated[\"atom\"] = g.atom\n",
    "    rotated_structures += [rotated]\n",
    "    # break\n",
    "    \n",
    "rotated_structures_df = pd.concat(rotated_structures, axis=0)\n",
    "rotated_structures_df[structures.columns].to_csv(f\"../input/rotated_structures_{SEED}.csv\")"
   ]
  },
  {
   "cell_type": "code",
   "execution_count": 36,
   "metadata": {},
   "outputs": [],
   "source": [
    "assert structures.shape[0] == rotated_structures_df.shape[0]"
   ]
  },
  {
   "cell_type": "code",
   "execution_count": 37,
   "metadata": {},
   "outputs": [
    {
     "data": {
      "text/html": [
       "<div>\n",
       "<style scoped>\n",
       "    .dataframe tbody tr th:only-of-type {\n",
       "        vertical-align: middle;\n",
       "    }\n",
       "\n",
       "    .dataframe tbody tr th {\n",
       "        vertical-align: top;\n",
       "    }\n",
       "\n",
       "    .dataframe thead th {\n",
       "        text-align: right;\n",
       "    }\n",
       "</style>\n",
       "<table border=\"1\" class=\"dataframe\">\n",
       "  <thead>\n",
       "    <tr style=\"text-align: right;\">\n",
       "      <th></th>\n",
       "      <th>molecule_name</th>\n",
       "      <th>atom_index</th>\n",
       "      <th>atom</th>\n",
       "      <th>x</th>\n",
       "      <th>y</th>\n",
       "      <th>z</th>\n",
       "    </tr>\n",
       "  </thead>\n",
       "  <tbody>\n",
       "    <tr>\n",
       "      <th>0</th>\n",
       "      <td>dsgdb9nsd_000001</td>\n",
       "      <td>0</td>\n",
       "      <td>C</td>\n",
       "      <td>0.85409</td>\n",
       "      <td>-0.18319</td>\n",
       "      <td>0.64511</td>\n",
       "    </tr>\n",
       "    <tr>\n",
       "      <th>1</th>\n",
       "      <td>dsgdb9nsd_000001</td>\n",
       "      <td>1</td>\n",
       "      <td>H</td>\n",
       "      <td>-0.00397</td>\n",
       "      <td>0.00380</td>\n",
       "      <td>-0.00384</td>\n",
       "    </tr>\n",
       "    <tr>\n",
       "      <th>2</th>\n",
       "      <td>dsgdb9nsd_000001</td>\n",
       "      <td>2</td>\n",
       "      <td>H</td>\n",
       "      <td>0.93708</td>\n",
       "      <td>0.62072</td>\n",
       "      <td>1.37940</td>\n",
       "    </tr>\n",
       "    <tr>\n",
       "      <th>3</th>\n",
       "      <td>dsgdb9nsd_000001</td>\n",
       "      <td>3</td>\n",
       "      <td>H</td>\n",
       "      <td>0.71895</td>\n",
       "      <td>-1.13561</td>\n",
       "      <td>1.16181</td>\n",
       "    </tr>\n",
       "    <tr>\n",
       "      <th>4</th>\n",
       "      <td>dsgdb9nsd_000001</td>\n",
       "      <td>4</td>\n",
       "      <td>H</td>\n",
       "      <td>1.76426</td>\n",
       "      <td>-0.22164</td>\n",
       "      <td>0.04306</td>\n",
       "    </tr>\n",
       "  </tbody>\n",
       "</table>\n",
       "</div>"
      ],
      "text/plain": [
       "      molecule_name  atom_index atom        x        y        z\n",
       "0  dsgdb9nsd_000001           0    C  0.85409 -0.18319  0.64511\n",
       "1  dsgdb9nsd_000001           1    H -0.00397  0.00380 -0.00384\n",
       "2  dsgdb9nsd_000001           2    H  0.93708  0.62072  1.37940\n",
       "3  dsgdb9nsd_000001           3    H  0.71895 -1.13561  1.16181\n",
       "4  dsgdb9nsd_000001           4    H  1.76426 -0.22164  0.04306"
      ]
     },
     "execution_count": 37,
     "metadata": {},
     "output_type": "execute_result"
    }
   ],
   "source": [
    "rotated_structures_df[structures.columns].head()"
   ]
  },
  {
   "cell_type": "code",
   "execution_count": 34,
   "metadata": {},
   "outputs": [],
   "source": []
  },
  {
   "cell_type": "code",
   "execution_count": null,
   "metadata": {},
   "outputs": [],
   "source": []
  }
 ],
 "metadata": {
  "kernelspec": {
   "display_name": "Python 3",
   "language": "python",
   "name": "python3"
  },
  "language_info": {
   "codemirror_mode": {
    "name": "ipython",
    "version": 3
   },
   "file_extension": ".py",
   "mimetype": "text/x-python",
   "name": "python",
   "nbconvert_exporter": "python",
   "pygments_lexer": "ipython3",
   "version": "3.6.8"
  }
 },
 "nbformat": 4,
 "nbformat_minor": 2
}
